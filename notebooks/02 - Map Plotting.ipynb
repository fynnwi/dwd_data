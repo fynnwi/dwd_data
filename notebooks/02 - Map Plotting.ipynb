{
 "cells": [
  {
   "cell_type": "code",
   "execution_count": 1,
   "metadata": {},
   "outputs": [],
   "source": [
    "import plotly.graph_objects as go\n",
    "import pandas as pd\n",
    "import numpy as np\n",
    "from pathlib import Path\n",
    "\n",
    "# MapBox token\n",
    "token = \"pk.eyJ1IjoiZnlubndpIiwiYSI6ImNrODk3YmF6MzAzcDczbWs5NXdhaGpyNzYifQ.vHweJb-1hjDeE21tTs7tGQ\""
   ]
  },
  {
   "cell_type": "markdown",
   "metadata": {},
   "source": [
    "## Load data"
   ]
  },
  {
   "cell_type": "code",
   "execution_count": 2,
   "metadata": {},
   "outputs": [],
   "source": [
    "DIR_base = Path.cwd().parent\n",
    "DIR_data = Path.joinpath(DIR_base, \"data\")"
   ]
  },
  {
   "cell_type": "code",
   "execution_count": 3,
   "metadata": {},
   "outputs": [],
   "source": [
    "data = pd.read_pickle(Path.joinpath(DIR_data, \"processed\", \"temp_yearly_summary.pkl\"))\n",
    "stations = pd.read_pickle(Path.joinpath(DIR_data, \"processed\", \"stations_hourly_temp_hist.pkl\"))"
   ]
  },
  {
   "cell_type": "markdown",
   "metadata": {},
   "source": [
    "## Extract data"
   ]
  },
  {
   "cell_type": "code",
   "execution_count": 4,
   "metadata": {},
   "outputs": [],
   "source": [
    "lats = stations['latitude']\n",
    "lons = stations['longitude']\n",
    "ids = stations['station_id']\n",
    "names = stations['name']\n",
    "states = stations['state']\n",
    "altitudes = stations['altitude']"
   ]
  },
  {
   "cell_type": "code",
   "execution_count": null,
   "metadata": {},
   "outputs": [],
   "source": []
  },
  {
   "cell_type": "markdown",
   "metadata": {},
   "source": [
    "## Assemble Plot"
   ]
  },
  {
   "cell_type": "code",
   "execution_count": 6,
   "metadata": {},
   "outputs": [],
   "source": [
    "# figure\n",
    "fig = go.Figure()\n",
    "\n",
    "# marker\n",
    "markers = go.scattermapbox.Marker(\n",
    "    size=15,\n",
    "    color=altitudes,\n",
    "    colorscale='thermal',\n",
    "    opacity=0.8\n",
    ")\n",
    "\n",
    "# trace\n",
    "trace = go.Scattermapbox(\n",
    "    lat=lats,\n",
    "    lon=lons,\n",
    "    mode='markers',\n",
    "    marker=markers,\n",
    "    text=altitudes\n",
    ")\n",
    "\n",
    "# mapbox\n",
    "my_mapbox = {\n",
    "    'accesstoken': token,\n",
    "    'style': 'basic',\n",
    "    'zoom': 5,\n",
    "    'center': {\n",
    "        'lon': 10.02,\n",
    "        'lat': 51.13\n",
    "    }\n",
    "}\n",
    "\n",
    "\n",
    "# layout\n",
    "fig.update_layout(\n",
    "    title=\"DWD Stations in Germany\",\n",
    "    mapbox=my_mapbox,\n",
    "    autosize=True\n",
    ")\n",
    "\n",
    "fig.write_html(\"lel.html\")"
   ]
  },
  {
   "cell_type": "code",
   "execution_count": null,
   "metadata": {},
   "outputs": [],
   "source": []
  }
 ],
 "metadata": {
  "kernelspec": {
   "display_name": "Python 3",
   "language": "python",
   "name": "python3"
  },
  "language_info": {
   "codemirror_mode": {
    "name": "ipython",
    "version": 3
   },
   "file_extension": ".py",
   "mimetype": "text/x-python",
   "name": "python",
   "nbconvert_exporter": "python",
   "pygments_lexer": "ipython3",
   "version": "3.7.6"
  }
 },
 "nbformat": 4,
 "nbformat_minor": 4
}
